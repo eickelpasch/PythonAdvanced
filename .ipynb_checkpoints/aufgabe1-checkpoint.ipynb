{
 "cells": [
  {
   "cell_type": "code",
   "execution_count": 12,
   "id": "521359bf",
   "metadata": {},
   "outputs": [],
   "source": [
    "class Text:\n",
    "    def __init__(self, title: str, text = 'noch nichts eingegeben'):\n",
    "        self.title = title\n",
    "        textstring = \"\"\n",
    "        tokenlist = []\n",
    "    def receive_text()-> str:\n",
    "        textstring = input(\"Bitte geben Sie einen String ein: \")\n",
    "        return textstring\n",
    "    def erstelle_tokenlist (text): # -> list\n",
    "        tokenlist = split(text)\n",
    "        return tokenlist\n",
    "    def ermittle_textlaenge(text): # -> int\n",
    "        textlaenge = len(text)\n",
    "        return textlaenge\n",
    "    "
   ]
  },
  {
   "cell_type": "code",
   "execution_count": 17,
   "id": "396faa6b",
   "metadata": {},
   "outputs": [
    {
     "data": {
      "text/plain": [
       "{'title': 'zweiter Text'}"
      ]
     },
     "execution_count": 17,
     "metadata": {},
     "output_type": "execute_result"
    }
   ],
   "source": [
    "text = Text('zweiter Text')\n",
    "text.__dict__\n"
   ]
  },
  {
   "cell_type": "code",
   "execution_count": 20,
   "id": "4f99ea4d",
   "metadata": {},
   "outputs": [
    {
     "data": {
      "text/plain": [
       "{'title': 'Titel 3'}"
      ]
     },
     "execution_count": 20,
     "metadata": {},
     "output_type": "execute_result"
    }
   ],
   "source": [
    "aufgabentext = \"Dies ist ein kleiner Text. Nicht der Rede wert. Aber immerhin.\"\n",
    "aufgabenobjekt = Text(\"Titel 3\", aufgabentext)\n",
    "aufgabenobjekt.__dict__"
   ]
  },
  {
   "cell_type": "code",
   "execution_count": 14,
   "id": "58c8240b",
   "metadata": {},
   "outputs": [
    {
     "ename": "TypeError",
     "evalue": "Text.receive_text() takes 0 positional arguments but 1 was given",
     "output_type": "error",
     "traceback": [
      "\u001b[1;31m---------------------------------------------------------------------------\u001b[0m",
      "\u001b[1;31mTypeError\u001b[0m                                 Traceback (most recent call last)",
      "Cell \u001b[1;32mIn[14], line 2\u001b[0m\n\u001b[0;32m      1\u001b[0m text \u001b[38;5;241m=\u001b[39m Text(\u001b[38;5;124m\"\u001b[39m\u001b[38;5;124merster Text\u001b[39m\u001b[38;5;124m\"\u001b[39m)\n\u001b[1;32m----> 2\u001b[0m eingegebener_string \u001b[38;5;241m=\u001b[39m \u001b[43mtext\u001b[49m\u001b[38;5;241;43m.\u001b[39;49m\u001b[43mreceive_text\u001b[49m\u001b[43m(\u001b[49m\u001b[43m)\u001b[49m\n",
      "\u001b[1;31mTypeError\u001b[0m: Text.receive_text() takes 0 positional arguments but 1 was given"
     ]
    }
   ],
   "source": [
    "text = Text(\"erster Text\")\n",
    "eingegebener_string = text.receive_text()\n",
    "\n"
   ]
  },
  {
   "cell_type": "code",
   "execution_count": null,
   "id": "b4ff10fb",
   "metadata": {},
   "outputs": [],
   "source": []
  }
 ],
 "metadata": {
  "kernelspec": {
   "display_name": "Python 3 (ipykernel)",
   "language": "python",
   "name": "python3"
  },
  "language_info": {
   "codemirror_mode": {
    "name": "ipython",
    "version": 3
   },
   "file_extension": ".py",
   "mimetype": "text/x-python",
   "name": "python",
   "nbconvert_exporter": "python",
   "pygments_lexer": "ipython3",
   "version": "3.10.9"
  }
 },
 "nbformat": 4,
 "nbformat_minor": 5
}
