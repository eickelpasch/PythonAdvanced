{
 "cells": [
  {
   "cell_type": "code",
   "execution_count": 36,
   "id": "2214fe63",
   "metadata": {
    "scrolled": true
   },
   "outputs": [
    {
     "ename": "SyntaxError",
     "evalue": "cannot assign to subscript here. Maybe you meant '==' instead of '='? (2063083218.py, line 15)",
     "output_type": "error",
     "traceback": [
      "\u001b[1;36m  Cell \u001b[1;32mIn[36], line 15\u001b[1;36m\u001b[0m\n\u001b[1;33m    if erntemonate[monat] = True\u001b[0m\n\u001b[1;37m       ^\u001b[0m\n\u001b[1;31mSyntaxError\u001b[0m\u001b[1;31m:\u001b[0m cannot assign to subscript here. Maybe you meant '==' instead of '='?\n"
     ]
    }
   ],
   "source": [
    "class Obst:\n",
    "    \"\"\"Zur Obstaufgabe\"\"\"\n",
    "    d_erntemonate = {\"Jan\" : False, \"Feb\" : False, \"Mär\" : False, \"Apr\" : False, \n",
    "                   \"Mai\" : False, \"Jun\" : False, \"Jul\" : False, \"Aug\" : False,\n",
    "                   \"Sep\" : False, \"Okt\" : False, \"Nov\" : False, \"Dez\" : False} \n",
    "    l_d_monate = (\"Jan\" , \"Feb\" , \"Mär\" , \"Apr\" , \n",
    "                   \"Mai\" , \"Jun\" , \"Jul\" , \"Aug\" ,\n",
    "                   \"Sep\" , \"Okt\" , \"Nov\" , \"Dez\")\n",
    "    monat : Str\n",
    "    def __init__(self, name: str, erntemonate: dict):\n",
    "        self.name = name\n",
    "        self.erntemonate = erntemonate\n",
    "    def reif_zur_ernte(self, erntemonate, monat)-> bool:\n",
    "        \n",
    "        if erntemonate[monat] = True\n",
    "            stimmt = True\n",
    "            else \n",
    "            stimmt = False\n",
    "        return stimmt\n",
    "    \n",
    "        "
   ]
  },
  {
   "cell_type": "code",
   "execution_count": 23,
   "id": "3838be4c",
   "metadata": {},
   "outputs": [],
   "source": [
    "class Obst:\n",
    "    \"\"\"Zur Obstaufgabe\"\"\"\n",
    "    d_erntemonate = {\"Jan\" : False, \"Feb\" : False, \"Mär\" : False, \"Apr\" : False, \n",
    "                   \"Mai\" : False, \"Jun\" : False, \"Jul\" : False, \"Aug\" : False,\n",
    "                   \"Sep\" : False, \"Okt\" : False, \"Nov\" : False, \"Dez\" : False} \n",
    "    l_d_monate = (\"Jan\" , \"Feb\" , \"Mär\" , \"Apr\" , \n",
    "                   \"Mai\" , \"Jun\" , \"Jul\" , \"Aug\" ,\n",
    "                   \"Sep\" , \"Okt\" , \"Nov\" , \"Dez\")\n",
    "    monat : str\n",
    "    def __init__(self, name: str, erntemonate: dict):\n",
    "        self.name = name\n",
    "        self.erntemonate = erntemonate\n",
    "    def reif_zur_ernte(self, erntemonate, monat)-> bool:\n",
    "        pass"
   ]
  },
  {
   "cell_type": "code",
   "execution_count": 43,
   "id": "ed197f41",
   "metadata": {},
   "outputs": [
    {
     "name": "stdout",
     "output_type": "stream",
     "text": [
      "Aprikosen\n",
      "Brombeeren\n",
      "Erdbeeren\n"
     ]
    },
    {
     "data": {
      "text/plain": [
       "<__main__.Obst at 0x1f6ddd9fc10>"
      ]
     },
     "execution_count": 43,
     "metadata": {},
     "output_type": "execute_result"
    }
   ],
   "source": [
    "d_erntemonate = {\"Jan\" : False, \"Feb\" : False, \"Mär\" : False, \"Apr\" : False, \n",
    "                   \"Mai\" : False, \"Jun\" : False, \"Jul\" : False, \"Aug\" : False,\n",
    "                   \"Sep\" : False, \"Okt\" : False, \"Nov\" : False, \"Dez\" : False} \n",
    "obstliste = (\"Aprikosen\", \"Brombeeren\", \"Erdbeeren\")\n",
    "\n",
    "for obstname in obstliste:\n",
    "#for i in (0,1,2):\n",
    "    print (obstname)\n",
    "    #obstname = Obst(obstliste[obstname], d_erntemonate)\n",
    "    obstsorte = Obst(obstname , d_erntemonate)\n",
    "\n",
    "obstsorte    "
   ]
  },
  {
   "cell_type": "code",
   "execution_count": 53,
   "id": "f3b902c3",
   "metadata": {},
   "outputs": [
    {
     "name": "stdout",
     "output_type": "stream",
     "text": [
      "Aprikosen\n"
     ]
    },
    {
     "ename": "TypeError",
     "evalue": "'str' object is not callable",
     "output_type": "error",
     "traceback": [
      "\u001b[1;31m---------------------------------------------------------------------------\u001b[0m",
      "\u001b[1;31mTypeError\u001b[0m                                 Traceback (most recent call last)",
      "Cell \u001b[1;32mIn[53], line 12\u001b[0m\n\u001b[0;32m      8\u001b[0m     \u001b[38;5;28mprint\u001b[39m (obstname)\n\u001b[0;32m      9\u001b[0m     \u001b[38;5;66;03m#obstname = Obst(obstliste[obstname], d_erntemonate)\u001b[39;00m\n\u001b[0;32m     10\u001b[0m     \u001b[38;5;66;03m#str(obstname) = Obst(obstname , d_erntemonate)\u001b[39;00m\n\u001b[0;32m     11\u001b[0m     \u001b[38;5;66;03m#ernteobst[obstname] = str(obstname)\u001b[39;00m\n\u001b[1;32m---> 12\u001b[0m     \u001b[43mernteobst\u001b[49m\u001b[43m(\u001b[49m\u001b[43m[\u001b[49m\u001b[43mobstname\u001b[49m\u001b[43m,\u001b[49m\u001b[43m \u001b[49m\u001b[43mObst\u001b[49m\u001b[43m(\u001b[49m\u001b[43mobstname\u001b[49m\u001b[43m \u001b[49m\u001b[43m,\u001b[49m\u001b[43m \u001b[49m\u001b[43md_erntemonate\u001b[49m\u001b[43m)\u001b[49m\u001b[43m]\u001b[49m\u001b[43m)\u001b[49m\n\u001b[0;32m     13\u001b[0m ernteobst\n",
      "\u001b[1;31mTypeError\u001b[0m: 'str' object is not callable"
     ]
    }
   ],
   "source": [
    "d_erntemonate = {\"Jan\" : False, \"Feb\" : False, \"Mär\" : False, \"Apr\" : False, \n",
    "                   \"Mai\" : False, \"Jun\" : False, \"Jul\" : False, \"Aug\" : False,\n",
    "                   \"Sep\" : False, \"Okt\" : False, \"Nov\" : False, \"Dez\" : False} \n",
    "obstliste = (\"Aprikosen\", \"Brombeeren\", \"Erdbeeren\")\n",
    "ernteobst: dict[str, Obst] # hg nachträglich\n",
    "for obstname in obstliste:\n",
    "#for i in (0,1,2):\n",
    "    print (obstname)\n",
    "    #obstname = Obst(obstliste[obstname], d_erntemonate)\n",
    "    #str(obstname) = Obst(obstname , d_erntemonate)\n",
    "    #ernteobst[obstname] = str(obstname)\n",
    "    ernteobst([obstname, Obst(obstname , d_erntemonate)])\n",
    "ernteobst   "
   ]
  },
  {
   "cell_type": "code",
   "execution_count": 44,
   "id": "ba579400",
   "metadata": {},
   "outputs": [
    {
     "data": {
      "text/plain": [
       "{'name': 'Erdbeeren',\n",
       " 'erntemonate': {'Jan': False,\n",
       "  'Feb': False,\n",
       "  'Mär': False,\n",
       "  'Apr': False,\n",
       "  'Mai': False,\n",
       "  'Jun': False,\n",
       "  'Jul': False,\n",
       "  'Aug': False,\n",
       "  'Sep': False,\n",
       "  'Okt': False,\n",
       "  'Nov': False,\n",
       "  'Dez': False}}"
      ]
     },
     "execution_count": 44,
     "metadata": {},
     "output_type": "execute_result"
    }
   ],
   "source": [
    "obstsorte.__dict__"
   ]
  },
  {
   "cell_type": "raw",
   "id": "3e608243",
   "metadata": {},
   "source": []
  },
  {
   "cell_type": "code",
   "execution_count": 33,
   "id": "0a6a2d50",
   "metadata": {},
   "outputs": [
    {
     "name": "stdout",
     "output_type": "stream",
     "text": [
      "Aprikosen\n",
      "Brombeeren\n",
      "Erdbeeren\n"
     ]
    }
   ],
   "source": [
    "d_erntemonate = {\"Jan\" : False, \"Feb\" : False, \"Mär\" : False, \"Apr\" : False, \n",
    "                   \"Mai\" : False, \"Jun\" : False, \"Jul\" : False, \"Aug\" : False,\n",
    "                   \"Sep\" : False, \"Okt\" : False, \"Nov\" : False, \"Dez\" : False} \n",
    "obstliste = [\"Aprikosen\", \"Brombeeren\", \"Erdbeeren\"]\n",
    "\n",
    "#for obstname in obstliste:\n",
    "for i in (0,1,2):\n",
    "    print (obstliste[i])\n",
    "    #obstliste(i) = Obst(obstliste(i), d_erntemonate)\n",
    "    \n"
   ]
  },
  {
   "cell_type": "code",
   "execution_count": null,
   "id": "f6140a00",
   "metadata": {},
   "outputs": [],
   "source": []
  }
 ],
 "metadata": {
  "kernelspec": {
   "display_name": "Python 3 (ipykernel)",
   "language": "python",
   "name": "python3"
  },
  "language_info": {
   "codemirror_mode": {
    "name": "ipython",
    "version": 3
   },
   "file_extension": ".py",
   "mimetype": "text/x-python",
   "name": "python",
   "nbconvert_exporter": "python",
   "pygments_lexer": "ipython3",
   "version": "3.10.9"
  }
 },
 "nbformat": 4,
 "nbformat_minor": 5
}
