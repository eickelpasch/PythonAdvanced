{
 "cells": [
  {
   "cell_type": "code",
   "execution_count": 19,
   "id": "fe41e7f4",
   "metadata": {},
   "outputs": [],
   "source": [
    "class Text:\n",
    "    def __init__(self, text: str):\n",
    "        self.text = text    \n",
    "    def erstelle_tokenlist (self): # -> list nimmt er hier den übergebenen text oder self.text (Beides das Gleiche?)\n",
    "        #tokenlist = split(text) kein Hinweis gegeben\n",
    "        tokenlist = text.split(\",\")\n",
    "        return tokenlist\n",
    "    def ermittle_textlaenge(self): # -> int\n",
    "        #textlaenge = len(text)\n",
    "        textlaenge = len(text)\n",
    "        return textlaenge\n",
    "    "
   ]
  },
  {
   "cell_type": "code",
   "execution_count": 20,
   "id": "9d4e63ce",
   "metadata": {},
   "outputs": [],
   "source": [
    "text= \"Dies ist ein kleiner Text. Nicht der Rede wert. Aber immerhin.\""
   ]
  },
  {
   "cell_type": "code",
   "execution_count": 21,
   "id": "8ca99b4b",
   "metadata": {},
   "outputs": [
    {
     "data": {
      "text/plain": [
       "<__main__.Text at 0x2863789a8f0>"
      ]
     },
     "execution_count": 21,
     "metadata": {},
     "output_type": "execute_result"
    }
   ],
   "source": [
    "text1 = Text(text)\n",
    "text1\n"
   ]
  },
  {
   "cell_type": "code",
   "execution_count": 22,
   "id": "d06fae22",
   "metadata": {},
   "outputs": [
    {
     "data": {
      "text/plain": [
       "{'text': 'Dies ist ein kleiner Text. Nicht der Rede wert. Aber immerhin.'}"
      ]
     },
     "execution_count": 22,
     "metadata": {},
     "output_type": "execute_result"
    }
   ],
   "source": [
    "text1.__dict__           #wie bekomme ich weitere Infos zum Objekt?"
   ]
  },
  {
   "cell_type": "code",
   "execution_count": 23,
   "id": "59ca5289",
   "metadata": {},
   "outputs": [
    {
     "data": {
      "text/plain": [
       "['Dies ist ein kleiner Text. Nicht der Rede wert. Aber immerhin.']"
      ]
     },
     "execution_count": 23,
     "metadata": {},
     "output_type": "execute_result"
    }
   ],
   "source": [
    "token_liste = text1.erstelle_tokenlist() # Frage best pratice objekt_attribut oder golobale variable?\n",
    "token_liste"
   ]
  },
  {
   "cell_type": "code",
   "execution_count": 24,
   "id": "766e167d",
   "metadata": {},
   "outputs": [
    {
     "data": {
      "text/plain": [
       "62"
      ]
     },
     "execution_count": 24,
     "metadata": {},
     "output_type": "execute_result"
    }
   ],
   "source": [
    "#textlaenge = text1.ermittle_textlaenge(text)\n",
    "#textlaenge = text1.ermittle_textlaenge()\n",
    "textlaenge = text1.ermittle_textlaenge()\n",
    "textlaenge"
   ]
  },
  {
   "cell_type": "code",
   "execution_count": 14,
   "id": "92bd4bd3",
   "metadata": {},
   "outputs": [
    {
     "ename": "TypeError",
     "evalue": "Text.receive_text() takes 0 positional arguments but 1 was given",
     "output_type": "error",
     "traceback": [
      "\u001b[1;31m---------------------------------------------------------------------------\u001b[0m",
      "\u001b[1;31mTypeError\u001b[0m                                 Traceback (most recent call last)",
      "Cell \u001b[1;32mIn[14], line 2\u001b[0m\n\u001b[0;32m      1\u001b[0m text \u001b[38;5;241m=\u001b[39m Text(\u001b[38;5;124m\"\u001b[39m\u001b[38;5;124merster Text\u001b[39m\u001b[38;5;124m\"\u001b[39m)\n\u001b[1;32m----> 2\u001b[0m eingegebener_string \u001b[38;5;241m=\u001b[39m \u001b[43mtext\u001b[49m\u001b[38;5;241;43m.\u001b[39;49m\u001b[43mreceive_text\u001b[49m\u001b[43m(\u001b[49m\u001b[43m)\u001b[49m\n",
      "\u001b[1;31mTypeError\u001b[0m: Text.receive_text() takes 0 positional arguments but 1 was given"
     ]
    }
   ],
   "source": [
    "text = Text(\"erster Text\")\n",
    "eingegebener_string = text.receive_text()\n",
    "\n",
    "#was ist das für ein merkwürdige Fehler? - receive.test ist garnicht definiert???"
   ]
  },
  {
   "cell_type": "code",
   "execution_count": 25,
   "id": "cabcc775",
   "metadata": {},
   "outputs": [],
   "source": [
    "import re       # besser in den eignentlichen Code, dort am Anfang\n",
    "class MarkedUpText(Text):\n",
    "    \n",
    "    raw_text: str\n",
    "    \n",
    "    def __init__(self, raw_text):\n",
    "        plain = re.sub(r'<[^>]+', '', raw_text)\n",
    "        #super(plain)\n",
    "        self.raw_text = raw_text\n",
    "        \n",
    "    def raw_length(self):\n",
    "        return len(self.raw_text)\n"
   ]
  },
  {
   "cell_type": "code",
   "execution_count": 26,
   "id": "68abf1ad",
   "metadata": {},
   "outputs": [],
   "source": [
    "markedtext = MarkedUpText('Dies ist ein <hi rend=\"bold\">wichtiger</bold> Text')"
   ]
  },
  {
   "cell_type": "code",
   "execution_count": 27,
   "id": "c1edb5aa",
   "metadata": {},
   "outputs": [
    {
     "data": {
      "text/plain": [
       "{'raw_text': 'Dies ist ein <hi rend=\"bold\">wichtiger</bold> Text'}"
      ]
     },
     "execution_count": 27,
     "metadata": {},
     "output_type": "execute_result"
    }
   ],
   "source": [
    "markedtext.__dict__"
   ]
  },
  {
   "cell_type": "code",
   "execution_count": 57,
   "id": "9c633be8",
   "metadata": {},
   "outputs": [
    {
     "data": {
      "text/plain": [
       "50"
      ]
     },
     "execution_count": 57,
     "metadata": {},
     "output_type": "execute_result"
    }
   ],
   "source": [
    "markedtext.raw_length()"
   ]
  },
  {
   "cell_type": "code",
   "execution_count": 28,
   "id": "21a39732",
   "metadata": {},
   "outputs": [
    {
     "data": {
      "text/plain": [
       "62"
      ]
     },
     "execution_count": 28,
     "metadata": {},
     "output_type": "execute_result"
    }
   ],
   "source": [
    "markedtext.ermittle_textlaenge()"
   ]
  },
  {
   "cell_type": "code",
   "execution_count": null,
   "id": "83ab0488",
   "metadata": {},
   "outputs": [],
   "source": []
  }
 ],
 "metadata": {
  "kernelspec": {
   "display_name": "Python 3 (ipykernel)",
   "language": "python",
   "name": "python3"
  },
  "language_info": {
   "codemirror_mode": {
    "name": "ipython",
    "version": 3
   },
   "file_extension": ".py",
   "mimetype": "text/x-python",
   "name": "python",
   "nbconvert_exporter": "python",
   "pygments_lexer": "ipython3",
   "version": "3.10.9"
  }
 },
 "nbformat": 4,
 "nbformat_minor": 5
}
