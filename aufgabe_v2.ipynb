{
 "cells": [
  {
   "cell_type": "code",
   "execution_count": 47,
   "id": "fe41e7f4",
   "metadata": {},
   "outputs": [],
   "source": [
    "class Text:\n",
    "    def __init__(self, title: str, text: str):\n",
    "        self.title = title\n",
    "        self.text = text    \n",
    "    def erstelle_tokenlist (text): # -> list nimmt er hier den übergebenen text oder self.text (Beides das Gleiche?)\n",
    "        #tokenlist = split(text) kein Hinweis gegeben\n",
    "        tokenlist = text.split(\",\")\n",
    "        return tokenlist\n",
    "    def ermittle_textlaenge(text): # -> int\n",
    "        #textlaenge = len(text)\n",
    "        textlaenge = len(self.text)\n",
    "        return textlaenge\n",
    "    "
   ]
  },
  {
   "cell_type": "code",
   "execution_count": 48,
   "id": "08af6328",
   "metadata": {},
   "outputs": [
    {
     "name": "stdout",
     "output_type": "stream",
     "text": [
      "Bitte geben Sie einen Titel an: Titel \n"
     ]
    }
   ],
   "source": [
    "title = input(\"Bitte geben Sie einen Titel an: \")\n",
    "text= \"Dies ist ein kleiner Text. Nicht der Rede wert. Aber immerhin.\""
   ]
  },
  {
   "cell_type": "code",
   "execution_count": 49,
   "id": "8ca99b4b",
   "metadata": {},
   "outputs": [
    {
     "data": {
      "text/plain": [
       "{'title': 'Titel ',\n",
       " 'text': 'Dies ist ein kleiner Text. Nicht der Rede wert. Aber immerhin.'}"
      ]
     },
     "execution_count": 49,
     "metadata": {},
     "output_type": "execute_result"
    }
   ],
   "source": [
    "text1 = Text(title, text)\n",
    "text1.__dict__           #wie bekomme ich weitere Infos zum Objekt?\n"
   ]
  },
  {
   "cell_type": "code",
   "execution_count": 50,
   "id": "59ca5289",
   "metadata": {},
   "outputs": [
    {
     "ename": "AttributeError",
     "evalue": "'Text' object has no attribute 'split'",
     "output_type": "error",
     "traceback": [
      "\u001b[1;31m---------------------------------------------------------------------------\u001b[0m",
      "\u001b[1;31mAttributeError\u001b[0m                            Traceback (most recent call last)",
      "Cell \u001b[1;32mIn[50], line 1\u001b[0m\n\u001b[1;32m----> 1\u001b[0m token_liste \u001b[38;5;241m=\u001b[39m \u001b[43mtext1\u001b[49m\u001b[38;5;241;43m.\u001b[39;49m\u001b[43merstelle_tokenlist\u001b[49m\u001b[43m(\u001b[49m\u001b[43m)\u001b[49m \u001b[38;5;66;03m# Frage best pratice objekt_attribut oder golobale variable?\u001b[39;00m\n\u001b[0;32m      2\u001b[0m token_liste\n",
      "Cell \u001b[1;32mIn[47], line 7\u001b[0m, in \u001b[0;36mText.erstelle_tokenlist\u001b[1;34m(text)\u001b[0m\n\u001b[0;32m      5\u001b[0m \u001b[38;5;28;01mdef\u001b[39;00m \u001b[38;5;21merstelle_tokenlist\u001b[39m (text): \u001b[38;5;66;03m# -> list nimmt er hier den übergebenen text oder self.text (Beides das Gleiche?)\u001b[39;00m\n\u001b[0;32m      6\u001b[0m     \u001b[38;5;66;03m#tokenlist = split(text) kein Hinweis gegeben\u001b[39;00m\n\u001b[1;32m----> 7\u001b[0m     tokenlist \u001b[38;5;241m=\u001b[39m \u001b[43mtext\u001b[49m\u001b[38;5;241;43m.\u001b[39;49m\u001b[43msplit\u001b[49m(\u001b[38;5;124m\"\u001b[39m\u001b[38;5;124m,\u001b[39m\u001b[38;5;124m\"\u001b[39m)\n\u001b[0;32m      8\u001b[0m     \u001b[38;5;28;01mreturn\u001b[39;00m tokenlist\n",
      "\u001b[1;31mAttributeError\u001b[0m: 'Text' object has no attribute 'split'"
     ]
    }
   ],
   "source": [
    "token_liste = text1.erstelle_tokenlist() # Frage best pratice objekt_attribut oder golobale variable?\n",
    "token_liste"
   ]
  },
  {
   "cell_type": "code",
   "execution_count": 58,
   "id": "766e167d",
   "metadata": {},
   "outputs": [
    {
     "ename": "TypeError",
     "evalue": "Text.ermittle_textlaenge() takes 1 positional argument but 2 were given",
     "output_type": "error",
     "traceback": [
      "\u001b[1;31m---------------------------------------------------------------------------\u001b[0m",
      "\u001b[1;31mTypeError\u001b[0m                                 Traceback (most recent call last)",
      "Cell \u001b[1;32mIn[58], line 3\u001b[0m\n\u001b[0;32m      1\u001b[0m \u001b[38;5;66;03m#textlaenge = text1.ermittle_textlaenge(text)\u001b[39;00m\n\u001b[0;32m      2\u001b[0m \u001b[38;5;66;03m#textlaenge = text1.ermittle_textlaenge()\u001b[39;00m\n\u001b[1;32m----> 3\u001b[0m textlaenge \u001b[38;5;241m=\u001b[39m \u001b[43mtext1\u001b[49m\u001b[38;5;241;43m.\u001b[39;49m\u001b[43mermittle_textlaenge\u001b[49m\u001b[43m(\u001b[49m\u001b[43mtext1\u001b[49m\u001b[43m)\u001b[49m\n\u001b[0;32m      4\u001b[0m textlaenge\n",
      "\u001b[1;31mTypeError\u001b[0m: Text.ermittle_textlaenge() takes 1 positional argument but 2 were given"
     ]
    }
   ],
   "source": [
    "#textlaenge = text1.ermittle_textlaenge(text)\n",
    "#textlaenge = text1.ermittle_textlaenge()\n",
    "textlaenge = text1.ermittle_textlaenge(text1)\n",
    "textlaenge"
   ]
  },
  {
   "cell_type": "code",
   "execution_count": 14,
   "id": "92bd4bd3",
   "metadata": {},
   "outputs": [
    {
     "ename": "TypeError",
     "evalue": "Text.receive_text() takes 0 positional arguments but 1 was given",
     "output_type": "error",
     "traceback": [
      "\u001b[1;31m---------------------------------------------------------------------------\u001b[0m",
      "\u001b[1;31mTypeError\u001b[0m                                 Traceback (most recent call last)",
      "Cell \u001b[1;32mIn[14], line 2\u001b[0m\n\u001b[0;32m      1\u001b[0m text \u001b[38;5;241m=\u001b[39m Text(\u001b[38;5;124m\"\u001b[39m\u001b[38;5;124merster Text\u001b[39m\u001b[38;5;124m\"\u001b[39m)\n\u001b[1;32m----> 2\u001b[0m eingegebener_string \u001b[38;5;241m=\u001b[39m \u001b[43mtext\u001b[49m\u001b[38;5;241;43m.\u001b[39;49m\u001b[43mreceive_text\u001b[49m\u001b[43m(\u001b[49m\u001b[43m)\u001b[49m\n",
      "\u001b[1;31mTypeError\u001b[0m: Text.receive_text() takes 0 positional arguments but 1 was given"
     ]
    }
   ],
   "source": [
    "text = Text(\"erster Text\")\n",
    "eingegebener_string = text.receive_text()\n",
    "\n"
   ]
  },
  {
   "cell_type": "code",
   "execution_count": 54,
   "id": "cabcc775",
   "metadata": {},
   "outputs": [],
   "source": [
    "import re       # besser in den eignentlichen Code, dort am Anfang\n",
    "class MarkedUpText(Text):\n",
    "    \n",
    "    raw_text: str\n",
    "    \n",
    "    def __init__(self, raw_text):\n",
    "        plain = re.sub(r'<[^>]+', '', raw_text)\n",
    "        #super(plain)\n",
    "        self.raw_text = raw_text\n",
    "        \n",
    "    def raw_length(self):\n",
    "        return len(self.raw_text)\n"
   ]
  },
  {
   "cell_type": "code",
   "execution_count": 55,
   "id": "d5b830d7",
   "metadata": {},
   "outputs": [],
   "source": [
    "markedtext = MarkedUpText('Dies ist ein <hi rend=\"bold\">wichtiger</bold> Text')"
   ]
  },
  {
   "cell_type": "code",
   "execution_count": 56,
   "id": "639b831f",
   "metadata": {},
   "outputs": [
    {
     "data": {
      "text/plain": [
       "{'raw_text': 'Dies ist ein <hi rend=\"bold\">wichtiger</bold> Text'}"
      ]
     },
     "execution_count": 56,
     "metadata": {},
     "output_type": "execute_result"
    }
   ],
   "source": [
    "markedtext.__dict__"
   ]
  },
  {
   "cell_type": "code",
   "execution_count": 57,
   "id": "8d16fd53",
   "metadata": {},
   "outputs": [
    {
     "data": {
      "text/plain": [
       "50"
      ]
     },
     "execution_count": 57,
     "metadata": {},
     "output_type": "execute_result"
    }
   ],
   "source": [
    "markedtext.raw_length()"
   ]
  },
  {
   "cell_type": "code",
   "execution_count": null,
   "id": "17401a18",
   "metadata": {},
   "outputs": [],
   "source": []
  }
 ],
 "metadata": {
  "kernelspec": {
   "display_name": "Python 3 (ipykernel)",
   "language": "python",
   "name": "python3"
  },
  "language_info": {
   "codemirror_mode": {
    "name": "ipython",
    "version": 3
   },
   "file_extension": ".py",
   "mimetype": "text/x-python",
   "name": "python",
   "nbconvert_exporter": "python",
   "pygments_lexer": "ipython3",
   "version": "3.10.9"
  }
 },
 "nbformat": 4,
 "nbformat_minor": 5
}
